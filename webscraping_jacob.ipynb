{
 "cells": [
  {
   "cell_type": "code",
   "execution_count": 1,
   "id": "6b2accde",
   "metadata": {},
   "outputs": [
    {
     "ename": "ModuleNotFoundError",
     "evalue": "No module named 'bs4'",
     "output_type": "error",
     "traceback": [
      "\u001b[1;31m---------------------------------------------------------------------------\u001b[0m",
      "\u001b[1;31mModuleNotFoundError\u001b[0m                       Traceback (most recent call last)",
      "\u001b[1;32m~\\AppData\\Local\\Temp/ipykernel_22284/886102414.py\u001b[0m in \u001b[0;36m<module>\u001b[1;34m\u001b[0m\n\u001b[0;32m      1\u001b[0m \u001b[1;32mimport\u001b[0m \u001b[0mrequests\u001b[0m\u001b[1;33m\u001b[0m\u001b[1;33m\u001b[0m\u001b[0m\n\u001b[1;32m----> 2\u001b[1;33m \u001b[1;32mfrom\u001b[0m \u001b[0mbs4\u001b[0m \u001b[1;32mimport\u001b[0m \u001b[0mBeautifulSoup\u001b[0m \u001b[1;32mas\u001b[0m \u001b[0mBS\u001b[0m\u001b[1;33m\u001b[0m\u001b[1;33m\u001b[0m\u001b[0m\n\u001b[0m\u001b[0;32m      3\u001b[0m \u001b[1;32mimport\u001b[0m \u001b[0mpandas\u001b[0m \u001b[1;32mas\u001b[0m \u001b[0mpd\u001b[0m\u001b[1;33m\u001b[0m\u001b[1;33m\u001b[0m\u001b[0m\n\u001b[0;32m      4\u001b[0m \u001b[1;32mimport\u001b[0m \u001b[0mre\u001b[0m\u001b[1;33m\u001b[0m\u001b[1;33m\u001b[0m\u001b[0m\n\u001b[0;32m      5\u001b[0m \u001b[1;32mfrom\u001b[0m \u001b[0mtqdm\u001b[0m\u001b[1;33m.\u001b[0m\u001b[0mnotebook\u001b[0m \u001b[1;32mimport\u001b[0m \u001b[0mtqdm\u001b[0m\u001b[1;33m\u001b[0m\u001b[1;33m\u001b[0m\u001b[0m\n",
      "\u001b[1;31mModuleNotFoundError\u001b[0m: No module named 'bs4'"
     ]
    }
   ],
   "source": [
    "import requests\n",
    "from bs4 import BeautifulSoup as BS\n",
    "import pandas as pd\n",
    "import re\n",
    "from tqdm.notebook import tqdm\n",
    "from time import sleep\n",
    "import plotly.express as px\n"
   ]
  },
  {
   "cell_type": "code",
   "execution_count": null,
   "id": "09c9b6ae",
   "metadata": {},
   "outputs": [],
   "source": [
    "URL = 'https://www.opensecrets.org/races/summary?cycle=2020&id=TN02&spec=N'\n",
    "\n",
    "res = requests.get(URL)"
   ]
  },
  {
   "cell_type": "code",
   "execution_count": null,
   "id": "fc4a98f2",
   "metadata": {},
   "outputs": [],
   "source": [
    "res.status_code"
   ]
  },
  {
   "cell_type": "code",
   "execution_count": null,
   "id": "69c40f13",
   "metadata": {},
   "outputs": [],
   "source": [
    "soup = BS(res.text)"
   ]
  },
  {
   "cell_type": "code",
   "execution_count": null,
   "id": "83e872cb",
   "metadata": {},
   "outputs": [],
   "source": [
    "print(soup.prettify())"
   ]
  },
  {
   "cell_type": "code",
   "execution_count": null,
   "id": "b89ebebc",
   "metadata": {},
   "outputs": [],
   "source": [
    "type(soup.find_all('table', attrs = {'class':'DataTable'})[0])"
   ]
  },
  {
   "cell_type": "code",
   "execution_count": null,
   "id": "0707a1c5",
   "metadata": {},
   "outputs": [],
   "source": [
    "html_df = str(soup.find_all('table', attrs = {'class':'DataTable'})[0])"
   ]
  },
  {
   "cell_type": "code",
   "execution_count": null,
   "id": "d5d5d1ac",
   "metadata": {},
   "outputs": [],
   "source": [
    "district02_df = pd.read_html(html_df)"
   ]
  },
  {
   "cell_type": "code",
   "execution_count": null,
   "id": "91317118",
   "metadata": {},
   "outputs": [],
   "source": [
    "district02_df = district02_df[0]"
   ]
  },
  {
   "cell_type": "code",
   "execution_count": null,
   "id": "5ed2d251",
   "metadata": {},
   "outputs": [],
   "source": [
    "district02_df['Candidate'] = district02_df['Candidate'].str.replace(\"•\",\"\")\n",
    "district02_df"
   ]
  },
  {
   "cell_type": "code",
   "execution_count": null,
   "id": "9b57be39",
   "metadata": {},
   "outputs": [],
   "source": [
    "district02_df[['Candidate','party', 'incumbent', 'winner']] = district02_df.Candidate.str.extract(r'(\\w+\\s\\w+\\s)(\\W\\w\\W\\s?)(\\s?\\W?\\w*)(\\s?\\W?\\w*)' , expand = True) "
   ]
  },
  {
   "cell_type": "code",
   "execution_count": null,
   "id": "a6effcca",
   "metadata": {},
   "outputs": [],
   "source": [
    "district02_df = district02_df.replace('','no')\n",
    "district02_df = district02_df.replace(['(',')'], '')"
   ]
  },
  {
   "cell_type": "code",
   "execution_count": null,
   "id": "76291efc",
   "metadata": {},
   "outputs": [],
   "source": [
    "district02_df"
   ]
  },
  {
   "cell_type": "code",
   "execution_count": null,
   "id": "ecbd9750",
   "metadata": {},
   "outputs": [],
   "source": [
    "soup.find_all('li', {'class':'SubNav-item'})"
   ]
  },
  {
   "cell_type": "code",
   "execution_count": null,
   "id": "fcc74e04",
   "metadata": {},
   "outputs": [],
   "source": [
    "#https://data36.com/scrape-multiple-web-pages-beautiful-soup-tutorial/\n",
    "n = 1\n",
    "all_districts_tn=pd.DataFrame()\n",
    "for n in range(1,10):\n",
    "    URL = f'https://www.opensecrets.org/races/summary?cycle=2020&id=TN0{n}&spec=N'\n",
    "    res1 = requests.get(URL)\n",
    "    soup1 = BS(res1.text)\n",
    "    tn_districts = pd.read_html(str(soup1.find_all('table', attrs = {'class':'DataTable'})[0]))[0]\n",
    "    tn_districts['districts'] = n\n",
    "    tn_districts['state'] = 'TN'\n",
    "    all_districts_tn = all_districts_tn.append(tn_districts)\n",
    "    n+=1\n",
    "tn_districts"
   ]
  },
  {
   "cell_type": "code",
   "execution_count": null,
   "id": "74dfaa41",
   "metadata": {},
   "outputs": [],
   "source": [
    "all_districts_tn"
   ]
  },
  {
   "cell_type": "code",
   "execution_count": null,
   "id": "a420937e",
   "metadata": {},
   "outputs": [],
   "source": [
    "all_districts_tn.Candidate.to_list()"
   ]
  },
  {
   "cell_type": "code",
   "execution_count": null,
   "id": "4c4fbc89",
   "metadata": {},
   "outputs": [],
   "source": [
    "all_districts_tn[['name', 'party', 'nan', 'incumbent', 'winner']] = all_districts_tn.Candidate.str.extract(r'(\\W?\\w+?\\s?\\w+\\s\\w+\\s)(\\W\\w\\W\\s?)(\\s?\\W?\\w*)(\\s?\\W?\\w*\\s?\\W?)?(\\s?\\w+)?' , expand = True) "
   ]
  },
  {
   "cell_type": "code",
   "execution_count": null,
   "id": "a2a465e2",
   "metadata": {},
   "outputs": [],
   "source": [
    "all_districts_tn['incumbent'].to_list()"
   ]
  },
  {
   "cell_type": "code",
   "execution_count": null,
   "id": "017d00ad",
   "metadata": {},
   "outputs": [],
   "source": [
    "all_districts_tn = (all_districts_tn.drop(columns = ['nan'])\n",
    "                    .fillna(False).\n",
    "                    replace({' Winner': True , ' Incumbent •': True, '':False}))"
   ]
  },
  {
   "cell_type": "code",
   "execution_count": null,
   "id": "97e3529c",
   "metadata": {},
   "outputs": [],
   "source": [
    "all_districts_tn.head()"
   ]
  },
  {
   "cell_type": "code",
   "execution_count": null,
   "id": "6005bce7",
   "metadata": {},
   "outputs": [],
   "source": [
    "#getting all data from all states:\n",
    "states = [\"AL\", \"AK\", \"AZ\", \"AR\", \"CA\", \"CO\", \"CT\", \"DE\", \"FL\", \"GA\", \n",
    "          \"HI\", \"ID\", \"IL\", \"IN\", \"IA\", \"KS\", \"KY\", \"LA\", \"ME\", \"MD\", \n",
    "          \"MA\", \"MI\", \"MN\", \"MS\", \"MO\", \"MT\", \"NE\", \"NV\", \"NH\", \"NJ\", \n",
    "          \"NM\", \"NY\", \"NC\", \"ND\", \"OH\", \"OK\", \"OR\", \"PA\", \"RI\", \"SC\", \n",
    "          \"SD\", \"TN\", \"TX\", \"UT\", \"VT\", \"VA\", \"WA\", \"WV\", \"WI\", \"WY\"]\n",
    "url2 = 'https://www.britannica.com/topic/United-States-House-of-Representatives-Seats-by-State-1787120'\n",
    "r = requests.get(url2)\n",
    "soup2 = BS(r.text)\n",
    "r"
   ]
  },
  {
   "cell_type": "code",
   "execution_count": null,
   "id": "d3b915e0",
   "metadata": {},
   "outputs": [],
   "source": [
    "num_of_dist = pd.read_html(str(soup2.find_all('table')))"
   ]
  },
  {
   "cell_type": "code",
   "execution_count": null,
   "id": "802df585",
   "metadata": {},
   "outputs": [],
   "source": [
    "num_of_dist = num_of_dist[0]\n",
    "num_of_dist.info()"
   ]
  },
  {
   "cell_type": "code",
   "execution_count": null,
   "id": "9066f7c5",
   "metadata": {},
   "outputs": [],
   "source": [
    "num_of_dist = num_of_dist.drop(index = 50)"
   ]
  },
  {
   "cell_type": "code",
   "execution_count": null,
   "id": "757e6db0",
   "metadata": {},
   "outputs": [],
   "source": [
    "num_of_dist['abbrev'] = states"
   ]
  },
  {
   "cell_type": "code",
   "execution_count": null,
   "id": "9dccef9a",
   "metadata": {},
   "outputs": [],
   "source": [
    "num_of_dist"
   ]
  },
  {
   "cell_type": "code",
   "execution_count": null,
   "id": "e966ec26",
   "metadata": {},
   "outputs": [],
   "source": [
    "representatives = num_of_dist['representatives'].to_list()\n",
    "state_abbrev = num_of_dist['abbrev'].to_list()"
   ]
  },
  {
   "cell_type": "code",
   "execution_count": null,
   "id": "c99b97aa",
   "metadata": {},
   "outputs": [],
   "source": [
    "num_of_dist['representatives'].sum()"
   ]
  },
  {
   "cell_type": "code",
   "execution_count": null,
   "id": "18bdc884",
   "metadata": {},
   "outputs": [],
   "source": [
    "reps_by_state = list(zip(state_abbrev,representatives))"
   ]
  },
  {
   "cell_type": "code",
   "execution_count": null,
   "id": "c7d639a3",
   "metadata": {},
   "outputs": [],
   "source": [
    "reps_by_state"
   ]
  },
  {
   "cell_type": "code",
   "execution_count": null,
   "id": "a81cd09b",
   "metadata": {},
   "outputs": [],
   "source": [
    "#i = 10\n",
    "all_districts_us_10= pd.DataFrame()\n",
    "all_districts_us_9 = pd.DataFrame()\n",
    "for state in states:\n",
    "    for i in range(1,54):\n",
    "        sleep(0.1)\n",
    "        if i < 10:\n",
    "            try:\n",
    "                URL2 = f'https://www.opensecrets.org/races/summary?cycle=2020&id={state}0{i}&spec=N'\n",
    "                res2 = requests.get(URL2)\n",
    "                soup3 = BS(res2.text)\n",
    "                print(URL2,res2)\n",
    "                us_districts1 = pd.read_html(str(soup3.find_all('table', attrs = {'class':'DataTable'})[0]))[0]\n",
    "                us_districts1['state'] = state\n",
    "                us_districts1['district'] = i\n",
    "                all_districts_us_9 = all_districts_us_9.append(us_districts1)\n",
    "            except IndexError:\n",
    "                break\n",
    "        if i >= 10:\n",
    "            try:\n",
    "                URL3 = f'https://www.opensecrets.org/races/summary?cycle=2020&id={state}{i}&spec=N'\n",
    "                res3 = requests.get(URL3)\n",
    "                soup4 = BS(res3.text)\n",
    "                print(URL3, res3)\n",
    "                us_districts2 = pd.read_html(str(soup4.find_all('table', attrs = {'class':'DataTable'})[0]))[0]\n",
    "                us_districts2['state'] = state\n",
    "                us_districts2['district'] = i\n",
    "                all_districts_us_10 = all_districts_us_10.append(us_districts2)\n",
    "            except IndexError:\n",
    "                break\n",
    "    i+=1\n"
   ]
  },
  {
   "cell_type": "code",
   "execution_count": null,
   "id": "da8f31ab",
   "metadata": {},
   "outputs": [],
   "source": [
    "frames = [all_districts_us_9, all_districts_us_10]\n",
    "all_districts_us = pd.concat(frames)"
   ]
  },
  {
   "cell_type": "code",
   "execution_count": null,
   "id": "e98c534a",
   "metadata": {},
   "outputs": [],
   "source": [
    "all_districts_us"
   ]
  },
  {
   "cell_type": "code",
   "execution_count": null,
   "id": "20ef0b4a",
   "metadata": {},
   "outputs": [],
   "source": [
    "all_districts_us[['name', 'party', 'nan', 'incumbent', 'winner']] = all_districts_us.Candidate.str.extract(r'(\\W\\w+?\\W?\\w+?\\s?\\w+\\s\\w+)\\W?\\s(\\W\\w\\W\\s?)(\\s?\\W?\\w*)(\\s?\\W?\\w*\\s?\\W?)?(\\s?\\w+)?' , expand = True)"
   ]
  },
  {
   "cell_type": "code",
   "execution_count": null,
   "id": "78fd8c16",
   "metadata": {},
   "outputs": [],
   "source": [
    "all_districts_us"
   ]
  },
  {
   "cell_type": "code",
   "execution_count": null,
   "id": "8256632a",
   "metadata": {},
   "outputs": [],
   "source": [
    "all_districts_us = all_districts_us.reset_index()"
   ]
  },
  {
   "cell_type": "code",
   "execution_count": null,
   "id": "a40e1122",
   "metadata": {},
   "outputs": [],
   "source": [
    "all_districts_us"
   ]
  },
  {
   "cell_type": "code",
   "execution_count": null,
   "id": "67385d55",
   "metadata": {},
   "outputs": [],
   "source": [
    "all_districts_us['winner']= all_districts_us[all_districts_us['index'] == 0]['winner'].fillna(1)"
   ]
  },
  {
   "cell_type": "code",
   "execution_count": null,
   "id": "0ec56e9e",
   "metadata": {},
   "outputs": [],
   "source": [
    "all_districts_us['incumbent'] = all_districts_us['incumbent'].replace({'Winner': 0})"
   ]
  },
  {
   "cell_type": "code",
   "execution_count": null,
   "id": "318b3477",
   "metadata": {},
   "outputs": [],
   "source": [
    "all_districts_us.winner.to_list()"
   ]
  },
  {
   "cell_type": "code",
   "execution_count": null,
   "id": "edf82c39",
   "metadata": {},
   "outputs": [],
   "source": [
    "all_districts_us = (all_districts_us.drop(columns = ['nan'])\n",
    "                    .fillna(False)\n",
    "                    .replace({ ' Winner': 1 , 'Incumbent •': 1, '': 0}))"
   ]
  },
  {
   "cell_type": "code",
   "execution_count": null,
   "id": "8aa246d5",
   "metadata": {},
   "outputs": [],
   "source": [
    "all_districts_us"
   ]
  },
  {
   "cell_type": "code",
   "execution_count": null,
   "id": "4ef1dc08",
   "metadata": {},
   "outputs": [],
   "source": [
    "all_districts_us['incumbent'] = all_districts_us['incumbent'].astype(bool)\n",
    "all_districts_us['winner'] = all_districts_us['winner'].astype(bool)\n",
    "all_districts_us.info()"
   ]
  },
  {
   "cell_type": "code",
   "execution_count": null,
   "id": "92cd3ef4",
   "metadata": {},
   "outputs": [],
   "source": [
    "x = 1\n",
    "df = [0]\n",
    "for x in range(1,50):\n",
    "    df.append(all_districts_us[all_districts_us['state'] == states[x]]['winner'].astype(bool).sum())\n",
    "len(df)"
   ]
  },
  {
   "cell_type": "code",
   "execution_count": null,
   "id": "73f9b41f",
   "metadata": {},
   "outputs": [],
   "source": [
    "num_of_dist['winners'] = df\n",
    "num_of_dist"
   ]
  },
  {
   "cell_type": "code",
   "execution_count": null,
   "id": "53822f25",
   "metadata": {},
   "outputs": [],
   "source": [
    "\n",
    "#Finding and correcting districts with wrong amount of winners\n",
    "num_of_dist[num_of_dist['winners']!=num_of_dist['representatives']]"
   ]
  },
  {
   "cell_type": "code",
   "execution_count": null,
   "id": "1ff52576",
   "metadata": {},
   "outputs": [],
   "source": [
    "ca_districts = all_districts_us[all_districts_us['state'] == 'MA']\n",
    "ca_districts[ca_districts['winner']==True]"
   ]
  },
  {
   "cell_type": "code",
   "execution_count": null,
   "id": "779f8222",
   "metadata": {},
   "outputs": [],
   "source": [
    "#Drop IL district 19 index 730\n",
    "#Drop IA district 5 index 187\n",
    "#Drop LA district 7 index 224\n",
    "#MA seems ok\n",
    "#Drop MI dist 15 index 746\n",
    "#Drop MO dist 9 index 315\n",
    "#Drop NJ dist 13 index 753\n",
    "#Drop NY dist 28 index 794\n",
    "#Drop OH dist 17 index 821\n",
    "#Drop PA dist 19 index 843\n",
    "all_districts_us = all_districts_us.drop(index = [730,187,224,746,315,753,794,821,843])"
   ]
  },
  {
   "cell_type": "code",
   "execution_count": null,
   "id": "a98f55d9",
   "metadata": {},
   "outputs": [],
   "source": [
    "#Now correct when including special elections\n",
    "all_districts_us['winner'].astype(bool).sum()"
   ]
  },
  {
   "cell_type": "code",
   "execution_count": null,
   "id": "62842664",
   "metadata": {},
   "outputs": [],
   "source": [
    "all_districts_us.to_csv('all_districts_us')"
   ]
  },
  {
   "cell_type": "code",
   "execution_count": null,
   "id": "17e7685c",
   "metadata": {},
   "outputs": [],
   "source": []
  }
 ],
 "metadata": {
  "kernelspec": {
   "display_name": "Python 3 (ipykernel)",
   "language": "python",
   "name": "python3"
  },
  "language_info": {
   "codemirror_mode": {
    "name": "ipython",
    "version": 3
   },
   "file_extension": ".py",
   "mimetype": "text/x-python",
   "name": "python",
   "nbconvert_exporter": "python",
   "pygments_lexer": "ipython3",
   "version": "3.8.5"
  }
 },
 "nbformat": 4,
 "nbformat_minor": 5
}
