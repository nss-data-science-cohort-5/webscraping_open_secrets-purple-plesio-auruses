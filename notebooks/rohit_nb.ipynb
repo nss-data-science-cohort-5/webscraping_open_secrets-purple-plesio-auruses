{
 "cells": [
  {
   "cell_type": "code",
   "execution_count": 1,
   "id": "22cf7388",
   "metadata": {},
   "outputs": [],
   "source": [
    "import requests\n",
    "from bs4 import BeautifulSoup as BS\n",
    "from IPython.core.display import HTML\n",
    "import pandas as pd"
   ]
  },
  {
   "cell_type": "markdown",
   "id": "c8128d97",
   "metadata": {},
   "source": [
    "<b>1\\. Start by scraping the data from the summary page for Tennessee's 2nd District, which is available at https://www.opensecrets.org/races/summary?cycle=2020&id=TN02&spec=N.</b>\n",
    "   * The data that we want is contained in the \"Total Raised and Spent\" table.\n",
    "   * Make a DataFrame showing, for each candidate:\n",
    "        * the candidate's name\n",
    "        * the candidate's party\n",
    "        * state\n",
    "        * district number\n",
    "        * whether the candidate was an incumbent\n",
    "        * whether the candidate won the race\n",
    "        * the total amount raised by that candidate (as a numeric variable)\n",
    "        * the total amount spent by the candidate (as a numeric variable)"
   ]
  },
  {
   "cell_type": "markdown",
   "id": "ce4444de",
   "metadata": {},
   "source": [
    "<b>2\\. Once you have working code for Tennessee's 2nd District, expand on your code to capture all of Tennessee's districts.</b>"
   ]
  },
  {
   "cell_type": "markdown",
   "id": "e8ac0ca4",
   "metadata": {},
   "source": [
    "<b>3\\. Once you have working code for all of Tennessee's districts, expand on it to capture all states and districts. The number of representatives each state has can be found in a table on this page: https://www.britannica.com/topic/United-States-House-of-Representatives-Seats-by-State-1787120</b>"
   ]
  },
  {
   "cell_type": "code",
   "execution_count": 2,
   "id": "5dc3b8b4",
   "metadata": {},
   "outputs": [],
   "source": [
    "def check_soup(state, district, year):\n",
    "    \n",
    "    URL = f'https://www.opensecrets.org/races/candidates?cycle={year}&id={state}{district}&spec=N'\n",
    "    response = requests.get(URL)\n",
    "    soup = BS(response.text)\n",
    "    \n",
    "    if (year in soup.find('title').text) and (len(soup.findAll('table')) > 0):\n",
    "        return True\n",
    "    \n",
    "    return False"
   ]
  },
  {
   "cell_type": "code",
   "execution_count": 3,
   "id": "9873051d",
   "metadata": {},
   "outputs": [],
   "source": [
    "def get_election_info(state, district, year, data = pd.DataFrame()):\n",
    "    \n",
    "    URL = f'https://www.opensecrets.org/races/candidates?cycle={year}&id={state}{district}&spec=N'\n",
    "    response = requests.get(URL)\n",
    "    soup = BS(response.text)\n",
    "        \n",
    "    candidates = soup.findAll('strong')\n",
    "    tables = (table for table in soup.findAll('table'))\n",
    "\n",
    "    for candidate in candidates:\n",
    "\n",
    "        text = candidate.text.replace('\\n','').replace('\\t','')\n",
    "        name = text.split(' (')[0]\n",
    "        party = text[text.find('(') + 1:text.find(')')]\n",
    "\n",
    "        qualifiers = [qualifier.text for qualifier in candidate.findAll('i')]\n",
    "        incumbent = 'Incumbent' in qualifiers\n",
    "        winner = 'Winner' in qualifiers\n",
    "\n",
    "        table_1 = pd.read_html(str(next(tables)))[0]\n",
    "        total_category = table_1[0].str.strip(':').to_list()\n",
    "        total_amount = table_1[1].str.replace('[$,]', '', regex = True).astype(int).to_list()\n",
    "\n",
    "        table_2 = pd.read_html(str(next(tables)))[0]\n",
    "        contribution_category = table_2['Type of Contribution'].str.replace('[^A-Za-z\\s\\-]', '', regex = True).str.strip().to_list()\n",
    "        contribution_amounts = table_2['Amount'].str.replace('[$,]', '', regex = True).astype(int).to_list()\n",
    "\n",
    "        table_3 = pd.read_html(str(next(tables)))[0]\n",
    "        disclosure_category = table_3['Type of Disclosure'].to_list()\n",
    "        disclosure_amount = table_3['Amount'].str.replace('[$,]', '', regex = True).astype(int).to_list()\n",
    "\n",
    "        keys = (['Name', 'Party', 'State', 'District', 'Year', 'Incumbent', 'Winner'] + \n",
    "                total_category + contribution_category + disclosure_category)\n",
    "\n",
    "        values = ([name, party, state, district, year, incumbent, winner] + \n",
    "                  total_amount + contribution_amounts + disclosure_amount)\n",
    "\n",
    "        data = data.append(dict(zip(keys, values)), ignore_index = True)\n",
    "        \n",
    "    return data"
   ]
  },
  {
   "cell_type": "code",
   "execution_count": 4,
   "id": "de51a0b1",
   "metadata": {},
   "outputs": [],
   "source": [
    "states = ['AL', 'AK', 'AZ', 'AR', 'CA', 'CO', 'CT', 'DC', 'DE', 'FL', 'GA', \n",
    "          'HI', 'ID', 'IL', 'IN', 'IA', 'KS', 'KY', 'LA', 'ME', 'MD', \n",
    "          'MA', 'MI', 'MN', 'MS', 'MO', 'MT', 'NE', 'NV', 'NH', 'NJ', \n",
    "          'NM', 'NY', 'NC', 'ND', 'OH', 'OK', 'OR', 'PA', 'RI', 'SC', \n",
    "          'SD', 'TN', 'TX', 'UT', 'VT', 'VA', 'WA', 'WV', 'WI', 'WY']\n",
    "\n",
    "districts = ['{:02d}'.format(num) for num in list(range(1,54))]\n",
    "\n",
    "column_names = ['Name', \n",
    "                'Party', \n",
    "                'State', \n",
    "                'District', \n",
    "                'Year',\n",
    "                'Incumbent', \n",
    "                'Winner', \n",
    "                'Raised', \n",
    "                'Spent', \n",
    "                'Cash on Hand',\n",
    "                'Small Individual Contributions', \n",
    "                'Large Individual Contributions', \n",
    "                'PAC Contributions', \n",
    "                'Candidate self-financing',\n",
    "                'Other', \n",
    "                'Full Disclosure', \n",
    "                'Incomplete Disclosure', \n",
    "                'No Disclosure']\n",
    "\n",
    "data = pd.DataFrame(columns = column_names)"
   ]
  },
  {
   "cell_type": "code",
   "execution_count": 5,
   "id": "d8bb6c53",
   "metadata": {},
   "outputs": [],
   "source": [
    "for state in states:\n",
    "        \n",
    "    if check_soup(state, 'S1', '2020'):\n",
    "        data = get_election_info(state, 'S1', '2020', data)\n",
    "        \n",
    "    if check_soup(state, 'S2', '2020'):\n",
    "        data = get_election_info(state, 'S2', '2020', data)\n",
    "        \n",
    "    for district in districts:   \n",
    "\n",
    "        if not check_soup(state, district, '2020'): break\n",
    "        data = get_election_info(state, district, '2020', data)"
   ]
  },
  {
   "cell_type": "code",
   "execution_count": 7,
   "id": "3cb8ce57",
   "metadata": {},
   "outputs": [],
   "source": [
    "data.to_csv('../data/election_finances.csv', index = False)"
   ]
  },
  {
   "cell_type": "markdown",
   "id": "4592fa44",
   "metadata": {},
   "source": [
    "<b>4\\. Using your scraped data, investigates different relationships between candidates and the amount of money they raised. Here are some suggestions to get you started, but feel free to pose you own questions or do additional exploration:</b>\n",
    "\n",
    "a. How often does the candidate who raised more money win a race?  \n",
    "b. How often does the candidate who spent more money win a race?  \n",
    "c. Does the difference between either money raised or money spent seem to influence the likelihood of a candidate winning a race?  \n",
    "d. How often does the incumbent candidate win a race?  \n",
    "e. Can you detect any relationship between amount of money raised and the incumbent status of a candidate?"
   ]
  },
  {
   "cell_type": "code",
   "execution_count": null,
   "id": "191ecee9",
   "metadata": {},
   "outputs": [],
   "source": []
  },
  {
   "cell_type": "markdown",
   "id": "90b90960",
   "metadata": {},
   "source": [
    "### Bonus Questions:\n",
    "If you complete all of the above, you can attempt these challenging bonus questions.\n",
    "\n",
    "Open Secrets also gives a detailed breakdown of contributions by source. For example, for Tennessee's second district, this is located at https://www.opensecrets.org/races/candidates?cycle=2020&id=TN02&spec=N\n",
    "\n",
    "Scrape these pages to get information on contributions by source. See if you can find anything interesting in terms of the source of contributions. Some examples to get you started:\n",
    "* What does the overall distribution of funding sources look like?\n",
    "* Is there any detectable difference in contribution sources between Democrat and Republican candidates?\n",
    "* Do the funding sources for either the winning candidate or incumbent candidate differ from the other candidates?"
   ]
  },
  {
   "cell_type": "code",
   "execution_count": null,
   "id": "9245ae48",
   "metadata": {},
   "outputs": [],
   "source": []
  }
 ],
 "metadata": {
  "kernelspec": {
   "display_name": "Python 3",
   "language": "python",
   "name": "python3"
  },
  "language_info": {
   "codemirror_mode": {
    "name": "ipython",
    "version": 3
   },
   "file_extension": ".py",
   "mimetype": "text/x-python",
   "name": "python",
   "nbconvert_exporter": "python",
   "pygments_lexer": "ipython3",
   "version": "3.8.8"
  }
 },
 "nbformat": 4,
 "nbformat_minor": 5
}
